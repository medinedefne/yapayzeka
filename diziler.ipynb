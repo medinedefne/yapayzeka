{
 "cells": [
  {
   "cell_type": "code",
   "execution_count": 12,
   "id": "55adc95b-7bf9-4c89-a578-c4d3954611bc",
   "metadata": {},
   "outputs": [],
   "source": [
    " import numpy as np #numpy kütüphanesini np olarak yazar\n",
    "dizi= np.array([1,2,3,4,5])#numpy kütüphanesini oluşturmak için kullanılır"
   ]
  },
  {
   "cell_type": "code",
   "execution_count": 13,
   "id": "3d80ab87-9be8-438a-a9f7-555b3af0d26b",
   "metadata": {},
   "outputs": [
    {
     "data": {
      "text/plain": [
       "array([1, 2, 3, 4, 5])"
      ]
     },
     "execution_count": 13,
     "metadata": {},
     "output_type": "execute_result"
    }
   ],
   "source": [
    "dizi"
   ]
  },
  {
   "cell_type": "code",
   "execution_count": null,
   "id": "718a6862-fc3b-414a-9590-6f9c3688f605",
   "metadata": {},
   "outputs": [],
   "source": []
  },
  {
   "cell_type": "code",
   "execution_count": 14,
   "id": "f88bb52a-a511-47d7-b1f7-983f9ee0a5a5",
   "metadata": {},
   "outputs": [
    {
     "data": {
      "text/plain": [
       "array([1, 2, 3])"
      ]
     },
     "execution_count": 14,
     "metadata": {},
     "output_type": "execute_result"
    }
   ],
   "source": [
    "dizi=a=np.array([1,2,3]) #np dizisinde atama yapmak için kullanılır\n",
    "dizi"
   ]
  },
  {
   "cell_type": "code",
   "execution_count": null,
   "id": "8f489a1b-5152-478c-8bef-90d7a18e36f7",
   "metadata": {},
   "outputs": [],
   "source": []
  },
  {
   "cell_type": "code",
   "execution_count": 15,
   "id": "eacadbfe-4ef0-400d-83ee-5139f467d90f",
   "metadata": {},
   "outputs": [
    {
     "data": {
      "text/plain": [
       "array([1.  , 2.  , 3.  , 3.14])"
      ]
     },
     "execution_count": 15,
     "metadata": {},
     "output_type": "execute_result"
    }
   ],
   "source": [
    " dizi=np.array([1,2,3,3.14]) # NumPy dizilerinin avantajı içindeki verilere göre kendisini tek tip olarak ayarlamasıdır\n",
    "dizi"
   ]
  },
  {
   "cell_type": "code",
   "execution_count": null,
   "id": "3366a5de-bd3d-4a4e-b24a-fe12154ffac6",
   "metadata": {},
   "outputs": [],
   "source": []
  },
  {
   "cell_type": "code",
   "execution_count": 16,
   "id": "662a592e-a4b5-43c4-a17c-e70348706385",
   "metadata": {},
   "outputs": [
    {
     "data": {
      "text/plain": [
       "array([1, 2, 3, 3])"
      ]
     },
     "execution_count": 16,
     "metadata": {},
     "output_type": "execute_result"
    }
   ],
   "source": [
    " dizi=np.array([1,2,3,3.14],dtype=int) # NumPy dizilerini tanımlama sırasında dizideki tüm elemanları tek tipe dönüştürme işlemi gerçekleştirebilir\n",
    " dizi"
   ]
  },
  {
   "cell_type": "code",
   "execution_count": null,
   "id": "b0523c9f-2073-437b-a47b-cd12d695a596",
   "metadata": {},
   "outputs": [],
   "source": []
  },
  {
   "cell_type": "code",
   "execution_count": 17,
   "id": "5b346c6d-87bf-4a33-acbd-110ddfa2a463",
   "metadata": {},
   "outputs": [
    {
     "data": {
      "text/plain": [
       "array([1, 2, 3])"
      ]
     },
     "execution_count": 17,
     "metadata": {},
     "output_type": "execute_result"
    }
   ],
   "source": [
    " birboyut=np.array([1,2,3]) # NumPy kütüphanesini import ettikten sonra aşağıdaki kodları yazarak bir boyutlu dizi oluşturur\n",
    "birboyut"
   ]
  },
  {
   "cell_type": "code",
   "execution_count": null,
   "id": "86c887db-249b-47fe-bb39-d334588c5e1e",
   "metadata": {},
   "outputs": [],
   "source": []
  },
  {
   "cell_type": "code",
   "execution_count": 18,
   "id": "e138f9a4-0ab4-404f-88a0-4e94054603dc",
   "metadata": {},
   "outputs": [
    {
     "data": {
      "text/plain": [
       "array([[1, 2, 3],\n",
       "       [4, 5, 6]])"
      ]
     },
     "execution_count": 18,
     "metadata": {},
     "output_type": "execute_result"
    }
   ],
   "source": [
    " ikiboyut = np.array([[1,2,3], [4,5,6]]) # İki boyutlu dizi oluşturmak için aşağıdaki kodlamaları yapar\n",
    "ikiboyut"
   ]
  },
  {
   "cell_type": "code",
   "execution_count": null,
   "id": "6c016036-8052-40f5-90b3-008c49eb2ba8",
   "metadata": {},
   "outputs": [],
   "source": []
  },
  {
   "cell_type": "code",
   "execution_count": null,
   "id": "714b6f41-e853-4f96-8360-f3eb3688604d",
   "metadata": {},
   "outputs": [],
   "source": [
    "ucboyut= np.array([[[1,2,3], [4,5,6]], [[1,2,3], [4,5,6]]]) # Üç boyutlu dizi oluşturmak için aşağıdaki kodlamaları yapar\n",
    "ucboyut"
   ]
  }
 ],
 "metadata": {
  "kernelspec": {
   "display_name": "Python 3 (ipykernel)",
   "language": "python",
   "name": "python3"
  },
  "language_info": {
   "codemirror_mode": {
    "name": "ipython",
    "version": 3
   },
   "file_extension": ".py",
   "mimetype": "text/x-python",
   "name": "python",
   "nbconvert_exporter": "python",
   "pygments_lexer": "ipython3",
   "version": "3.12.4"
  }
 },
 "nbformat": 4,
 "nbformat_minor": 5
}
