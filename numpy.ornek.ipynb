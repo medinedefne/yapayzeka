{
 "cells": [
  {
   "cell_type": "markdown",
   "id": "83b8cf29-af13-43bb-9d15-4e5bc66e67eb",
   "metadata": {},
   "source": [
    "**numpy dizi işlemleri**"
   ]
  },
  {
   "cell_type": "code",
   "execution_count": 12,
   "id": "35c53fda-4243-48fe-b093-f9e7b397c289",
   "metadata": {},
   "outputs": [],
   "source": [
    "import numpy as np #numpy kütüphanesini np takma adı ile projeye dahil ediyoruz"
   ]
  },
  {
   "cell_type": "code",
   "execution_count": 14,
   "id": "4e05575d-70b5-4026-b971-b427ff424a14",
   "metadata": {
    "scrolled": true
   },
   "outputs": [
    {
     "data": {
      "text/plain": [
       "array([[5, 5, 5],\n",
       "       [5, 5, 5],\n",
       "       [5, 5, 5],\n",
       "       [5, 5, 5]])"
      ]
     },
     "execution_count": 14,
     "metadata": {},
     "output_type": "execute_result"
    }
   ],
   "source": [
    "dizi=np.full((4,3),5)#4(satır),3(sütündan) ve 5 içindeki şeyi gösterir\n",
    "dizi"
   ]
  },
  {
   "cell_type": "code",
   "execution_count": null,
   "id": "3b782728-6bdd-41fd-a661-70ae13a525bf",
   "metadata": {},
   "outputs": [],
   "source": []
  },
  {
   "cell_type": "code",
   "execution_count": 16,
   "id": "d5383ae6-33aa-4309-ae85-3548a4fe2313",
   "metadata": {},
   "outputs": [
    {
     "data": {
      "text/plain": [
       "array([1, 2, 3])"
      ]
     },
     "execution_count": 16,
     "metadata": {},
     "output_type": "execute_result"
    }
   ],
   "source": [
    "#yeni bir numpy dizisi oluşturuyoruz\n",
    "np.array([1,2,3])"
   ]
  },
  {
   "cell_type": "code",
   "execution_count": null,
   "id": "32ac3925-c0e6-42e0-810c-f956625a8e4e",
   "metadata": {},
   "outputs": [],
   "source": []
  },
  {
   "cell_type": "code",
   "execution_count": 21,
   "id": "9db6addc-3dbd-41de-ae30-a2c1b9824ac8",
   "metadata": {},
   "outputs": [
    {
     "data": {
      "text/plain": [
       "array(['elma', 'erik', 'iğde'], dtype='<U4')"
      ]
     },
     "execution_count": 21,
     "metadata": {},
     "output_type": "execute_result"
    }
   ],
   "source": [
    "#oluşturduğumuz diziyi bir değişkene aktarıyoruz\n",
    "dizi=np.array([\"elma\",\"erik\",\"iğde\"])\n",
    "dizi"
   ]
  },
  {
   "cell_type": "code",
   "execution_count": null,
   "id": "28ae5179-5e96-47b8-9645-8a03e087310c",
   "metadata": {},
   "outputs": [],
   "source": []
  },
  {
   "cell_type": "code",
   "execution_count": null,
   "id": "6c982d61-7df8-48db-8a09-6fb37a744764",
   "metadata": {},
   "outputs": [],
   "source": [
    "dizi=np.array([1,2,3])"
   ]
  },
  {
   "cell_type": "code",
   "execution_count": null,
   "id": "b3f868e8-5991-484f-bf9e-79f51663ad79",
   "metadata": {},
   "outputs": [],
   "source": [
    "dizi=np.array([1,2,3,14])"
   ]
  },
  {
   "cell_type": "code",
   "execution_count": null,
   "id": "2f65ab7d-f560-41ff-9329-813fece2c8f4",
   "metadata": {},
   "outputs": [],
   "source": [
    "dizi=dtype #dizinin değişken türünü verir.numpy dizilerinde elemanların hepsi aynı türdendir"
   ]
  },
  {
   "cell_type": "code",
   "execution_count": null,
   "id": "23340e3d-25fb-4f31-b172-6083f12fcc75",
   "metadata": {},
   "outputs": [],
   "source": [
    "dtype('float64')"
   ]
  },
  {
   "cell_type": "code",
   "execution_count": null,
   "id": "ded1dba3-4792-4ead-9ee7-691960506302",
   "metadata": {},
   "outputs": [],
   "source": [
    "dizi=np.array([1,2,3,14]), dtype=int"
   ]
  },
  {
   "cell_type": "markdown",
   "id": "8b5060fb-81f4-477b-92b9-ebdf3b2e2ddd",
   "metadata": {},
   "source": [
    "**numpy ile farklı boyutlarda dizi oluşturma**"
   ]
  },
  {
   "cell_type": "code",
   "execution_count": 32,
   "id": "052ae209-07fc-47ed-8556-28781407d78b",
   "metadata": {},
   "outputs": [],
   "source": [
    "#bir boyutlu dizi oluşturma\n",
    "birboyut=np.array([1,2,3,4])\n",
    "#iki boyutlu dizi oluşturma\n",
    "ikiboyut=np.array([[1,2,3,4],[5,6,7,8],[9,10,11,12]])"
   ]
  },
  {
   "cell_type": "code",
   "execution_count": 30,
   "id": "39239de0-16f1-4105-bf12-32eae9db0aba",
   "metadata": {},
   "outputs": [
    {
     "data": {
      "text/plain": [
       "array([1, 2, 3, 4])"
      ]
     },
     "execution_count": 30,
     "metadata": {},
     "output_type": "execute_result"
    }
   ],
   "source": [
    "birboyut"
   ]
  },
  {
   "cell_type": "code",
   "execution_count": 34,
   "id": "dc4e2af6-d06e-4dd8-84ae-aa0532924ed0",
   "metadata": {},
   "outputs": [
    {
     "data": {
      "text/plain": [
       "array([[ 1,  2,  3,  4],\n",
       "       [ 5,  6,  7,  8],\n",
       "       [ 9, 10, 11, 12]])"
      ]
     },
     "execution_count": 34,
     "metadata": {},
     "output_type": "execute_result"
    }
   ],
   "source": [
    "ikiboyut"
   ]
  },
  {
   "cell_type": "code",
   "execution_count": null,
   "id": "cd7c2155-e1e0-4d99-a958-6fed5c167c13",
   "metadata": {},
   "outputs": [],
   "source": []
  },
  {
   "cell_type": "markdown",
   "id": "40b3a59b-afcb-4ee8-877e-80dba271ae0b",
   "metadata": {},
   "source": [
    "**numpy yer tutucular**"
   ]
  },
  {
   "cell_type": "code",
   "execution_count": 37,
   "id": "ff351504-cdc6-418e-969f-4373136642bc",
   "metadata": {},
   "outputs": [
    {
     "data": {
      "text/plain": [
       "array([0., 0., 0., 0., 0., 0., 0.])"
      ]
     },
     "execution_count": 37,
     "metadata": {},
     "output_type": "execute_result"
    }
   ],
   "source": [
    "np.zeros(7) #7 sıfırdan oluşan tek boyutlu dizi oluşturur"
   ]
  },
  {
   "cell_type": "code",
   "execution_count": null,
   "id": "92ba95fa-db15-4595-a696-5ede4f8f0cf1",
   "metadata": {},
   "outputs": [],
   "source": []
  },
  {
   "cell_type": "code",
   "execution_count": null,
   "id": "4244bda4-6c3d-4391-b463-02ca954511a6",
   "metadata": {},
   "outputs": [],
   "source": []
  },
  {
   "cell_type": "code",
   "execution_count": 39,
   "id": "e5e1656f-a254-4161-bafc-33b5734c89aa",
   "metadata": {},
   "outputs": [
    {
     "data": {
      "text/plain": [
       "array([[0, 0, 0],\n",
       "       [0, 0, 0]])"
      ]
     },
     "execution_count": 39,
     "metadata": {},
     "output_type": "execute_result"
    }
   ],
   "source": [
    "np.zeros((2,3),dtype=int) #sıfırdan oluşan 2 boyutlu int dizi oluşturur"
   ]
  },
  {
   "cell_type": "code",
   "execution_count": 41,
   "id": "d8e3dac6-ca9d-4e99-b8fb-53925b7f4bca",
   "metadata": {},
   "outputs": [
    {
     "data": {
      "text/plain": [
       "array([1., 1., 1.])"
      ]
     },
     "execution_count": 41,
     "metadata": {},
     "output_type": "execute_result"
    }
   ],
   "source": [
    "np.ones(3)"
   ]
  },
  {
   "cell_type": "code",
   "execution_count": 43,
   "id": "fef438c8-0a47-49cc-b905-d82fe01bc5a4",
   "metadata": {},
   "outputs": [
    {
     "data": {
      "text/plain": [
       "array([[5, 5, 5],\n",
       "       [5, 5, 5],\n",
       "       [5, 5, 5],\n",
       "       [5, 5, 5]])"
      ]
     },
     "execution_count": 43,
     "metadata": {},
     "output_type": "execute_result"
    }
   ],
   "source": [
    "np.full((4,3),5) #5 sayısından oluşan 2*3 dizi"
   ]
  },
  {
   "cell_type": "code",
   "execution_count": 45,
   "id": "78134cee-411a-4e3f-99e8-382812521f3f",
   "metadata": {},
   "outputs": [
    {
     "data": {
      "text/plain": [
       "array([ 2,  7, 12, 17])"
      ]
     },
     "execution_count": 45,
     "metadata": {},
     "output_type": "execute_result"
    }
   ],
   "source": [
    "np.arange(2,22,5)#başlangıçbitiş ve artış değerine göre dizi oluşturur"
   ]
  },
  {
   "cell_type": "code",
   "execution_count": 47,
   "id": "0288adc4-5729-44b0-89eb-08937b21e11f",
   "metadata": {},
   "outputs": [
    {
     "data": {
      "text/plain": [
       "array([ 2.        ,  3.33333333,  4.66666667,  6.        ,  7.33333333,\n",
       "        8.66666667, 10.        ])"
      ]
     },
     "execution_count": 47,
     "metadata": {},
     "output_type": "execute_result"
    }
   ],
   "source": [
    "np.linspace(2,10,num=7)#başlangıç ve bitiş değeri aralığında belirtilen miktarda eşit aralık "
   ]
  },
  {
   "cell_type": "code",
   "execution_count": 49,
   "id": "2e3336c8-0dde-4a68-a729-d9e877d46035",
   "metadata": {},
   "outputs": [
    {
     "data": {
      "text/plain": [
       "array([[8, 1],\n",
       "       [2, 6],\n",
       "       [5, 7],\n",
       "       [2, 7],\n",
       "       [0, 0]])"
      ]
     },
     "execution_count": 49,
     "metadata": {},
     "output_type": "execute_result"
    }
   ],
   "source": [
    "np.random.randint(0,10,(5,2))#0-10 aralığında 5*2 rastgele sayıdan oluşan 2 boyutlu dizi"
   ]
  },
  {
   "cell_type": "markdown",
   "id": "884d3549-8e42-4d87-8ac0-44482137718d",
   "metadata": {},
   "source": [
    "**diziler ile ilgili işlemler**"
   ]
  },
  {
   "cell_type": "code",
   "execution_count": null,
   "id": "fc60b121-fa74-4d6b-a00c-d8488dc14941",
   "metadata": {},
   "outputs": [],
   "source": []
  },
  {
   "cell_type": "code",
   "execution_count": 54,
   "id": "961c5313-3ca4-47e3-9347-64fbe4fe0d93",
   "metadata": {},
   "outputs": [
    {
     "data": {
      "text/plain": [
       "(3, 4)"
      ]
     },
     "execution_count": 54,
     "metadata": {},
     "output_type": "execute_result"
    }
   ],
   "source": [
    "#dizilerin eleman sayısını öğrenmek için shape kullanılır\n",
    "dizi=np.array([[1,2,3,4],[5,6,7,8],[9,10,11,12]])\n",
    "dizi.shape"
   ]
  },
  {
   "cell_type": "code",
   "execution_count": 56,
   "id": "7e93c8db-75ea-4bbb-a300-e7fe137985cf",
   "metadata": {},
   "outputs": [
    {
     "data": {
      "text/plain": [
       "2"
      ]
     },
     "execution_count": 56,
     "metadata": {},
     "output_type": "execute_result"
    }
   ],
   "source": [
    "#ndim dizi boyutunu öğrenmek için kullanılır\n",
    "dizi.ndim"
   ]
  },
  {
   "cell_type": "code",
   "execution_count": 58,
   "id": "6aa807b8-9db9-440b-b7ef-5d041db3e8cb",
   "metadata": {},
   "outputs": [
    {
     "data": {
      "text/plain": [
       "12"
      ]
     },
     "execution_count": 58,
     "metadata": {},
     "output_type": "execute_result"
    }
   ],
   "source": [
    "#size dizideki toplam eleman sayısını gösteriri\n",
    "dizi.size"
   ]
  },
  {
   "cell_type": "code",
   "execution_count": 60,
   "id": "38ca12b5-add7-4fb1-9bdb-c808adba8f96",
   "metadata": {},
   "outputs": [
    {
     "data": {
      "text/plain": [
       "4"
      ]
     },
     "execution_count": 60,
     "metadata": {},
     "output_type": "execute_result"
    }
   ],
   "source": [
    "dizi.itemsize #dizideki her bir elemanın bayt cinsinden değerini verir"
   ]
  },
  {
   "cell_type": "code",
   "execution_count": 69,
   "id": "d9b6a290-38bf-4d22-b1fe-098d8d304226",
   "metadata": {
    "scrolled": true
   },
   "outputs": [
    {
     "name": "stdout",
     "output_type": "stream",
     "text": [
      "[[6 6 4 6 9 0 6]\n",
      " [4 7 8 9 0 0 9]\n",
      " [2 9 1 0 2 4 8]\n",
      " [3 9 9 6 6 1 5]\n",
      " [0 1 1 5 2 4 5]]\n"
     ]
    }
   ],
   "source": [
    "#5 satır 7 sütün olacak şekilde rastgele sayılardan oluşan int türünde bir dizi oluştur\n",
    "random_array = np.random.randint(0, 10, size=(5, 7))\n",
    "print(random_array)"
   ]
  },
  {
   "cell_type": "code",
   "execution_count": null,
   "id": "1e09d502-6ca0-4937-b0ab-8d265e480724",
   "metadata": {},
   "outputs": [],
   "source": []
  }
 ],
 "metadata": {
  "kernelspec": {
   "display_name": "Python 3 (ipykernel)",
   "language": "python",
   "name": "python3"
  },
  "language_info": {
   "codemirror_mode": {
    "name": "ipython",
    "version": 3
   },
   "file_extension": ".py",
   "mimetype": "text/x-python",
   "name": "python",
   "nbconvert_exporter": "python",
   "pygments_lexer": "ipython3",
   "version": "3.12.4"
  }
 },
 "nbformat": 4,
 "nbformat_minor": 5
}
